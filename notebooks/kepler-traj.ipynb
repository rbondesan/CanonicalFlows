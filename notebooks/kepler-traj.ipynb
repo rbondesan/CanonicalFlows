{
 "cells": [
  {
   "cell_type": "markdown",
   "metadata": {},
   "source": [
    "# Kepler model\n",
    "Algorithm starting from trajectories, trying to overcome the issue of sampling\n",
    "\n",
    "Also, we could take a batch of initial conditions and then see if it generalizes to others... is there a\n",
    "critical value of the batch to have good generalization?"
   ]
  },
  {
   "cell_type": "markdown",
   "metadata": {},
   "source": [
    "## Settings"
   ]
  },
  {
   "cell_type": "code",
   "execution_count": 1,
   "metadata": {},
   "outputs": [
    {
     "name": "stdout",
     "output_type": "stream",
     "text": [
      "\n",
      "WARNING: The TensorFlow contrib module will not be included in TensorFlow 2.0.\n",
      "For more information, please see:\n",
      "  * https://github.com/tensorflow/community/blob/master/rfcs/20180907-contrib-sunset.md\n",
      "  * https://github.com/tensorflow/addons\n",
      "If you depend on functionality not listed there, please file an issue.\n",
      "\n"
     ]
    }
   ],
   "source": [
    "import numpy as np\n",
    "#from scipy.integrate import solve_ivp\n",
    "import matplotlib.pyplot as plt\n",
    "from IPython import display\n",
    "\n",
    "import tensorflow as tf\n",
    "\n",
    "import sys\n",
    "sys.path.append(\"../\")\n",
    "from models import *\n",
    "from hamiltonians import kepler\n",
    "from utils import make_train_op\n",
    "from losses import make_loss\n",
    "from data import make_data\n",
    "from utils import visualize_chain_bijector, is_symplectic\n",
    "\n",
    "import os\n",
    "\n",
    "DTYPE=tf.float32\n",
    "NP_DTYPE=np.float32"
   ]
  },
  {
   "cell_type": "code",
   "execution_count": 2,
   "metadata": {},
   "outputs": [],
   "source": [
    "sess = tf.InteractiveSession()"
   ]
  },
  {
   "cell_type": "code",
   "execution_count": 3,
   "metadata": {},
   "outputs": [],
   "source": [
    "tf.set_random_seed(0)"
   ]
  },
  {
   "cell_type": "code",
   "execution_count": 4,
   "metadata": {},
   "outputs": [],
   "source": [
    "# Suppress the warning till they fix this:\n",
    "# lib/python3.5/site-packages/tensorflow/python/util/tf_inspect.py:75: \n",
    "# DeprecationWarning: inspect.getargspec() is deprecated, use inspect.signature() instead\n",
    "import warnings\n",
    "warnings.filterwarnings(\"ignore\")"
   ]
  },
  {
   "cell_type": "code",
   "execution_count": 5,
   "metadata": {},
   "outputs": [],
   "source": [
    "k = -1\n",
    "settings = {\n",
    "    'k': k,\n",
    "    'hamiltonian': lambda x : kepler(x,k=k),\n",
    "    'd': 3,                    # space dimension\n",
    "    'num_particles': 1,        # number of particles\n",
    "    'minibatch_size': 1000,    # Mini batch size\n",
    "    'dataset_size': 2**10, # Set to float(\"inf\") for keeping sampling.\n",
    "    'num_stacks_bijectors': 4, # Number of bijectors\n",
    "    'log_dir' : \"/tmp/log/im_tests/kepler\",\n",
    "    'visualize': True,\n",
    "    #\n",
    "    'train_iters': 1000,\n",
    "    'starter_learning_rate': 1e-3, # for exp decay and none\n",
    "    'decay_lr': \"piecewise\",\n",
    "#     'decay_steps': 15000,  # for exp decay\n",
    "#     'decay_rate': 0.5,     # for exp decay\n",
    "    'boundaries': [20000, 200000], # for piecewise decay\n",
    "    'values': [1e-3, 1e-4, 1e-5],  # for piecewise decay\n",
    "    'min_learning_rate': 1e-5, \n",
    "    #\n",
    "#    'loss': \"dKdphi\",\n",
    "#    'base_dist': \"action_exponential_angle\",\n",
    "#    'base_dist': \"action_dirac_angle\"\n",
    "#    'diff_val': -.5, \n",
    "#    'lambda_diff': 1.   # coeff |K-val|^2\n",
    "#     ,\n",
    "#     'elastic_net_coeff': 0., \n",
    "#     'low_K_range': -100, # A large value means all above this are OK\n",
    "#     'high_K_range': -.01, \n",
    "#     'lambda_range': 10000.    # coeff range penalty\n",
    "    }\n",
    "# Choose a batch of actions: needs to be divisor of dataset_size or minibatch_size if infinite dataset\n",
    "# r = np.random.RandomState(seed=0)\n",
    "# num_samples_actions = 1 # number of distinct actions (Liouville torii)\n",
    "# sh = (num_samples_actions, settings['d'], settings['num_particles'], 1)\n",
    "# settings['value_actions'] = r.rand(*sh).astype(NP_DTYPE)\n",
    "# print(settings['value_actions'])"
   ]
  },
  {
   "cell_type": "markdown",
   "metadata": {},
   "source": [
    "## Eqs of motion\n",
    "\n",
    "Get data by sampling trajectories"
   ]
  },
  {
   "cell_type": "code",
   "execution_count": 6,
   "metadata": {},
   "outputs": [],
   "source": [
    "# sh = (settings['d'], settings['num_particles'], 2)\n",
    "# flattened_sh = (settings['d']*settings['num_particles']*2,)\n",
    "# from models import hamiltonian_vector_field\n",
    "# def f(t, x): \n",
    "#     # x is a flattened vector. t is unused in ham_vec_field\n",
    "#     # TODO: compute ham vec field by hand. This uses tf... \n",
    "#     return hamiltonian_vector_field(settings['hamiltonian'], np.reshape(x, sh), t)\n",
    "# traj = solve_ivp(f, [0, 10], np.reshape(x0, flattened_sh))"
   ]
  },
  {
   "cell_type": "code",
   "execution_count": 10,
   "metadata": {},
   "outputs": [
    {
     "name": "stdout",
     "output_type": "stream",
     "text": [
      "q0 =  [0.1 0.  0. ]\n",
      "p0 =  [0.         4.35889894 0.        ]\n",
      "E  =  -0.4950037468777335\n"
     ]
    }
   ],
   "source": [
    "# Initial conditions\n",
    "# r = np.random.RandomState(seed=0)\n",
    "# num_samples_actions = 1 # number of distinct initial conditions determining constants of the motion \n",
    "# x0 = r.rand(num_samples_actions, settings['d'], settings['num_particles'], 2).astype(NP_DTYPE)\n",
    "\n",
    "def make_initial_x(eccentricity=np.array(0.6)):\n",
    "    batch = eccentricity.shape[0]\n",
    "    q1 = np.expand_dims(1 - eccentricity,1)\n",
    "    p2 = np.expand_dims(np.sqrt((1+eccentricity) / (1-eccentricity)),1)\n",
    "    q2 = q3 = p1 = p3 = np.zeros((batch,1))\n",
    "    x = np.reshape(np.concatenate((q1, p1, q2, p2, q3, p3),axis=1), [batch,3,1,2])\n",
    "    return x\n",
    "#    x0 = np.reshape([1-eccentricity, 0., 0, np.sqrt((1+eccentricity) / (1-eccentricity)), 0, 0], [1,3,1,2])\n",
    "    \n",
    "eccentricity = np.array([.9])\n",
    "assert settings['d']==3 and settings['num_particles']==1\n",
    "x0 = make_initial_x(eccentricity)\n",
    "q0,p0 = extract_q_p(x0)\n",
    "print(\"q0 = \", np.reshape(q0,[-1]))\n",
    "print(\"p0 = \", np.reshape(p0,[-1]))\n",
    "print(\"E  = \", sess.run( settings['hamiltonian'](x0) ))"
   ]
  },
  {
   "cell_type": "code",
   "execution_count": 11,
   "metadata": {},
   "outputs": [
    {
     "name": "stdout",
     "output_type": "stream",
     "text": [
      "(1000, 1, 3, 1, 2)\n"
     ]
    }
   ],
   "source": [
    "# Use HamiltonianFlow as integrator of Hamiltonian\n",
    "integrator = HamiltonianFlow(settings['hamiltonian'],\n",
    "                             initial_t=0., \n",
    "                             final_t=10., \n",
    "                             num_steps=settings['minibatch_size'])\n",
    "traj = sess.run( integrator(x0, return_full_state=True) )\n",
    "# traj has shape (num_time_samples,batch,d,n,2). Reinterpret batch and num_time_samples as batch\n",
    "print(traj.shape)\n",
    "#traj = np.reshape(traj, [-1,settings['d'],settings['num_particles'],2])\n",
    "qtraj, ptraj = extract_q_p( np.reshape(traj, [-1,settings['d'],settings['num_particles'],2]) )"
   ]
  },
  {
   "cell_type": "code",
   "execution_count": 12,
   "metadata": {},
   "outputs": [
    {
     "data": {
      "image/png": "[encoded data removed]",
      "text/plain": [
       "<Figure size 432x288 with 1 Axes>"
      ]
     },
     "metadata": {
      "needs_background": "light"
     },
     "output_type": "display_data"
    }
   ],
   "source": [
    "# orbits\n",
    "dd = 0; nn = 0;\n",
    "plt.plot(qtraj[:,dd,nn,0], ptraj[:,dd,nn,0],'r*')\n",
    "#plt.plot(qtraj[:,0,nn,0], qtraj[:,1,nn,0],'b+')\n",
    "plt.gca().set_aspect('equal', adjustable='box')"
   ]
  },
  {
   "cell_type": "code",
   "execution_count": 13,
   "metadata": {},
   "outputs": [],
   "source": [
    "# qtraj[:,dd,nn,0] # all zeros since because of the initial conditions, in the xy plane only"
   ]
  },
  {
   "cell_type": "code",
   "execution_count": 14,
   "metadata": {},
   "outputs": [],
   "source": [
    "from utils import join_q_p"
   ]
  },
  {
   "cell_type": "code",
   "execution_count": 15,
   "metadata": {},
   "outputs": [
    {
     "data": {
      "text/plain": [
       "[<matplotlib.lines.Line2D at 0x129638e80>]"
      ]
     },
     "execution_count": 15,
     "metadata": {},
     "output_type": "execute_result"
    },
    {
     "data": {
      "image/png": "[encoded data removed]",
      "text/plain": [
       "<Figure size 432x288 with 1 Axes>"
      ]
     },
     "metadata": {
      "needs_background": "light"
     },
     "output_type": "display_data"
    }
   ],
   "source": [
    "# conserved quantities: angular momentum and energy\n",
    "J3 = np.multiply(qtraj[:,0,0,0], ptraj[:,1,0,0]) - np.multiply(qtraj[:,1,0,0], ptraj[:,0,0,0])\n",
    "E = sess.run( settings['hamiltonian']( join_q_p(qtraj,ptraj) ) )\n",
    "ts = np.arange(0.,10.,.01)\n",
    "plt.plot(J3,'r*')\n",
    "plt.plot(E,'b+')"
   ]
  },
  {
   "cell_type": "markdown",
   "metadata": {},
   "source": [
    "## Define the model and loss"
   ]
  },
  {
   "cell_type": "markdown",
   "metadata": {},
   "source": [
    "Define the model as sequence of a symplectic transformation T "
   ]
  },
  {
   "cell_type": "code",
   "execution_count": 16,
   "metadata": {},
   "outputs": [],
   "source": [
    "# No oscillator flow, map directly to phat,qhat cartesian coords of action-angle\n",
    "stack = []\n",
    "for i in range(settings['num_stacks_bijectors']):\n",
    "    stack.extend([ #ZeroCenter(is_training_forward=False),\n",
    "                  LinearSymplectic(),\n",
    "#                  SymplecticAdditiveCoupling(shift_model=MLP(activation=tf.nn.tanh))])\n",
    "                  SymplecticAdditiveCoupling(shift_model=IrrotationalMLP())])\n",
    "T = Chain(stack)"
   ]
  },
  {
   "cell_type": "markdown",
   "metadata": {},
   "source": [
    "The loss imposes that the trajectories in the transformed coordinates $\\hat{q},\\hat{p}$ are on circles of radius given by the actions. We choose the following one which makes couples of points have the same radius:\n",
    "$$\n",
    "\\ell = \\sum_d \\sum_n \\sum_{i=0}^{N-1} \n",
    "\\left[\\hat{q}(i,d,n)^2+\\hat{p}(i,d,n)^2 - (\\hat{q}(i-1,d,n)^2+\\hat{p}(i-1,d,n)^2)\\right]^2\n",
    "$$"
   ]
  },
  {
   "cell_type": "markdown",
   "metadata": {},
   "source": [
    "In general, we have a batch of trajectories and we want to impose that transformed coordinates for each batch are on the circle."
   ]
  },
  {
   "cell_type": "code",
   "execution_count": 17,
   "metadata": {},
   "outputs": [],
   "source": [
    "def make_circle_loss(z, shift=-1):\n",
    "    zsq = tf.square(z)\n",
    "    qhatsq, phatsq = extract_q_p(zsq)    \n",
    "#     if settings['visualize']:\n",
    "#         tf.summary.histogram(\"qhatsq\", qhatsq)\n",
    "#         tf.summary.histogram(\"phatsq\", phatsq)\n",
    "    diff_qhatsq = qhatsq - tf.roll(qhatsq, shift=shift, axis=0)\n",
    "    diff_phatsq = phatsq - tf.roll(phatsq, shift=shift, axis=0)\n",
    "#    return tf.reduce_mean(tf.square(diff_qhatsq + diff_phatsq))\n",
    "    return tf.reduce_sum(tf.square(diff_qhatsq + diff_phatsq))"
   ]
  },
  {
   "cell_type": "code",
   "execution_count": 10,
   "metadata": {},
   "outputs": [
    {
     "ename": "AssertionError",
     "evalue": "\nNot equal to tolerance rtol=1e-07, atol=0\n\nMismatch: 100%\nMax absolute difference: 1.01760008\nMax relative difference: 3.00000023\n x: array(1.3568, dtype=float32)\n y: array(0.3392)",
     "output_type": "error",
     "traceback": [
      "\u001b[0;31m---------------------------------------------------------------------------\u001b[0m",
      "\u001b[0;31mAssertionError\u001b[0m                            Traceback (most recent call last)",
      "\u001b[0;32m<ipython-input-10-9c52ed522be9>\u001b[0m in \u001b[0;36m<module>\u001b[0;34m\u001b[0m\n\u001b[1;32m     29\u001b[0m     \u001b[0mnp\u001b[0m\u001b[0;34m.\u001b[0m\u001b[0mtesting\u001b[0m\u001b[0;34m.\u001b[0m\u001b[0massert_allclose\u001b[0m\u001b[0;34m(\u001b[0m\u001b[0mloss\u001b[0m\u001b[0;34m,\u001b[0m \u001b[0mexpected_loss\u001b[0m\u001b[0;34m,\u001b[0m \u001b[0mrtol\u001b[0m\u001b[0;34m=\u001b[0m\u001b[0;36m1e-6\u001b[0m\u001b[0;34m,\u001b[0m \u001b[0matol\u001b[0m\u001b[0;34m=\u001b[0m\u001b[0;36m1e-4\u001b[0m\u001b[0;34m)\u001b[0m\u001b[0;34m\u001b[0m\u001b[0;34m\u001b[0m\u001b[0m\n\u001b[1;32m     30\u001b[0m \u001b[0;34m\u001b[0m\u001b[0m\n\u001b[0;32m---> 31\u001b[0;31m \u001b[0mtest_make_circle_loss\u001b[0m\u001b[0;34m(\u001b[0m\u001b[0;34m)\u001b[0m\u001b[0;34m\u001b[0m\u001b[0;34m\u001b[0m\u001b[0m\n\u001b[0m",
      "\u001b[0;32m<ipython-input-10-9c52ed522be9>\u001b[0m in \u001b[0;36mtest_make_circle_loss\u001b[0;34m()\u001b[0m\n\u001b[1;32m     20\u001b[0m     \u001b[0mexpected_loss\u001b[0m \u001b[0;34m=\u001b[0m \u001b[0;36m.0001\u001b[0m \u001b[0;34m*\u001b[0m \u001b[0;36m2\u001b[0m \u001b[0;34m*\u001b[0m \u001b[0mnp\u001b[0m\u001b[0;34m.\u001b[0m\u001b[0marray\u001b[0m\u001b[0;34m(\u001b[0m\u001b[0;34m(\u001b[0m\u001b[0;36m1\u001b[0m\u001b[0;34m-\u001b[0m\u001b[0;34m(\u001b[0m\u001b[0;36m16\u001b[0m\u001b[0;34m+\u001b[0m\u001b[0;36m25\u001b[0m\u001b[0;34m)\u001b[0m\u001b[0;34m)\u001b[0m\u001b[0;34m**\u001b[0m\u001b[0;36m2\u001b[0m \u001b[0;34m+\u001b[0m \u001b[0;34m(\u001b[0m\u001b[0;36m13\u001b[0m\u001b[0;34m-\u001b[0m\u001b[0;34m(\u001b[0m\u001b[0;36m36\u001b[0m\u001b[0;34m+\u001b[0m\u001b[0;36m49\u001b[0m\u001b[0;34m)\u001b[0m\u001b[0;34m)\u001b[0m\u001b[0;34m**\u001b[0m\u001b[0;36m2\u001b[0m\u001b[0;34m)\u001b[0m\u001b[0;34m.\u001b[0m\u001b[0mastype\u001b[0m\u001b[0;34m(\u001b[0m\u001b[0mNP_DTYPE\u001b[0m\u001b[0;34m)\u001b[0m \u001b[0;34m/\u001b[0m \u001b[0;36m4.\u001b[0m\u001b[0;34m\u001b[0m\u001b[0;34m\u001b[0m\u001b[0m\n\u001b[1;32m     21\u001b[0m     \u001b[0mloss\u001b[0m \u001b[0;34m=\u001b[0m \u001b[0msess\u001b[0m\u001b[0;34m.\u001b[0m\u001b[0mrun\u001b[0m\u001b[0;34m(\u001b[0m\u001b[0mmake_circle_loss\u001b[0m\u001b[0;34m(\u001b[0m\u001b[0mz\u001b[0m\u001b[0;34m)\u001b[0m\u001b[0;34m)\u001b[0m\u001b[0;34m\u001b[0m\u001b[0;34m\u001b[0m\u001b[0m\n\u001b[0;32m---> 22\u001b[0;31m     \u001b[0mnp\u001b[0m\u001b[0;34m.\u001b[0m\u001b[0mtesting\u001b[0m\u001b[0;34m.\u001b[0m\u001b[0massert_allclose\u001b[0m\u001b[0;34m(\u001b[0m\u001b[0mloss\u001b[0m\u001b[0;34m,\u001b[0m \u001b[0mexpected_loss\u001b[0m\u001b[0;34m)\u001b[0m\u001b[0;34m\u001b[0m\u001b[0;34m\u001b[0m\u001b[0m\n\u001b[0m\u001b[1;32m     23\u001b[0m \u001b[0;34m\u001b[0m\u001b[0m\n\u001b[1;32m     24\u001b[0m     \u001b[0mz\u001b[0m \u001b[0;34m=\u001b[0m \u001b[0mtf\u001b[0m\u001b[0;34m.\u001b[0m\u001b[0msqrt\u001b[0m\u001b[0;34m(\u001b[0m \u001b[0mtf\u001b[0m\u001b[0;34m.\u001b[0m\u001b[0mreshape\u001b[0m\u001b[0;34m(\u001b[0m\u001b[0mtf\u001b[0m\u001b[0;34m.\u001b[0m\u001b[0mrange\u001b[0m\u001b[0;34m(\u001b[0m\u001b[0;36m0\u001b[0m\u001b[0;34m,\u001b[0m\u001b[0mtot\u001b[0m\u001b[0;34m,\u001b[0m\u001b[0mdtype\u001b[0m\u001b[0;34m=\u001b[0m\u001b[0mDTYPE\u001b[0m\u001b[0;34m)\u001b[0m\u001b[0;34m,\u001b[0m\u001b[0;34m(\u001b[0m\u001b[0mN\u001b[0m\u001b[0;34m,\u001b[0m\u001b[0md\u001b[0m\u001b[0;34m,\u001b[0m\u001b[0mn\u001b[0m\u001b[0;34m,\u001b[0m\u001b[0;36m2\u001b[0m\u001b[0;34m)\u001b[0m\u001b[0;34m)\u001b[0m \u001b[0;34m)\u001b[0m\u001b[0;34m\u001b[0m\u001b[0;34m\u001b[0m\u001b[0m\n",
      "\u001b[0;32m~/tensorflow_env/lib/python3.7/site-packages/numpy/testing/_private/utils.py\u001b[0m in \u001b[0;36massert_allclose\u001b[0;34m(actual, desired, rtol, atol, equal_nan, err_msg, verbose)\u001b[0m\n\u001b[1;32m   1491\u001b[0m     \u001b[0mheader\u001b[0m \u001b[0;34m=\u001b[0m \u001b[0;34m'Not equal to tolerance rtol=%g, atol=%g'\u001b[0m \u001b[0;34m%\u001b[0m \u001b[0;34m(\u001b[0m\u001b[0mrtol\u001b[0m\u001b[0;34m,\u001b[0m \u001b[0matol\u001b[0m\u001b[0;34m)\u001b[0m\u001b[0;34m\u001b[0m\u001b[0;34m\u001b[0m\u001b[0m\n\u001b[1;32m   1492\u001b[0m     assert_array_compare(compare, actual, desired, err_msg=str(err_msg),\n\u001b[0;32m-> 1493\u001b[0;31m                          verbose=verbose, header=header, equal_nan=equal_nan)\n\u001b[0m\u001b[1;32m   1494\u001b[0m \u001b[0;34m\u001b[0m\u001b[0m\n\u001b[1;32m   1495\u001b[0m \u001b[0;34m\u001b[0m\u001b[0m\n",
      "\u001b[0;32m~/tensorflow_env/lib/python3.7/site-packages/numpy/testing/_private/utils.py\u001b[0m in \u001b[0;36massert_array_compare\u001b[0;34m(comparison, x, y, err_msg, verbose, header, precision, equal_nan, equal_inf)\u001b[0m\n\u001b[1;32m    817\u001b[0m                                 \u001b[0mverbose\u001b[0m\u001b[0;34m=\u001b[0m\u001b[0mverbose\u001b[0m\u001b[0;34m,\u001b[0m \u001b[0mheader\u001b[0m\u001b[0;34m=\u001b[0m\u001b[0mheader\u001b[0m\u001b[0;34m,\u001b[0m\u001b[0;34m\u001b[0m\u001b[0;34m\u001b[0m\u001b[0m\n\u001b[1;32m    818\u001b[0m                                 names=('x', 'y'), precision=precision)\n\u001b[0;32m--> 819\u001b[0;31m             \u001b[0;32mraise\u001b[0m \u001b[0mAssertionError\u001b[0m\u001b[0;34m(\u001b[0m\u001b[0mmsg\u001b[0m\u001b[0;34m)\u001b[0m\u001b[0;34m\u001b[0m\u001b[0;34m\u001b[0m\u001b[0m\n\u001b[0m\u001b[1;32m    820\u001b[0m     \u001b[0;32mexcept\u001b[0m \u001b[0mValueError\u001b[0m\u001b[0;34m:\u001b[0m\u001b[0;34m\u001b[0m\u001b[0;34m\u001b[0m\u001b[0m\n\u001b[1;32m    821\u001b[0m         \u001b[0;32mimport\u001b[0m \u001b[0mtraceback\u001b[0m\u001b[0;34m\u001b[0m\u001b[0;34m\u001b[0m\u001b[0m\n",
      "\u001b[0;31mAssertionError\u001b[0m: \nNot equal to tolerance rtol=1e-07, atol=0\n\nMismatch: 100%\nMax absolute difference: 1.01760008\nMax relative difference: 3.00000023\n x: array(1.3568, dtype=float32)\n y: array(0.3392)"
     ]
    }
   ],
   "source": [
    "def test_make_circle_loss():\n",
    "    d = 2\n",
    "    n = 1\n",
    "    N = 2\n",
    "    tot = N*d*n*2\n",
    "    # q[0,0] = 0, q[0,1] = 2\n",
    "    # p[0,0] = 1, p[0,1] = 3\n",
    "    # q[1,0] = 4, q[1.1] = 6\n",
    "    # p[1,0] = 5, p[1,1] = 7\n",
    "\n",
    "    # loss = (q[0,0]^2+p[0,0]^2 - (q[1,0]^2+p[1,0]^2))^2\n",
    "    #      + (q[0,1]^2+p[0,1]^2 - (q[1,1]^2+p[1,1]^2))^2\n",
    "    #      + (q[1,0]^2+p[1,0]^2 - (q[0,0]^2+p[0,0]^2))^2\n",
    "    #      + (q[1,1]^2+p[1,1]^2 - (q[0,1]^2+p[0,1]^2))^2\n",
    "\n",
    "    z = .1 * tf.reshape(tf.range(0,tot,dtype=DTYPE),(N,d,n,2))   \n",
    "    #      = (0       +1        - (16      +25      ))^2\n",
    "    #      + (4       +9        - (36      +49      ))^2\n",
    "    \n",
    "    expected_loss = .0001 * 2 * np.array((1-(16+25))**2 + (13-(36+49))**2).astype(NP_DTYPE) / 4.\n",
    "    loss = sess.run(make_circle_loss(z))\n",
    "    np.testing.assert_allclose(loss, expected_loss)\n",
    "\n",
    "    z = tf.sqrt( tf.reshape(tf.range(0,tot,dtype=DTYPE),(N,d,n,2)) )\n",
    "    #      = (0       +1        - (4       +5       ))^2\n",
    "    #      + (2       +3        - (6       +7       ))^2    \n",
    "    expected_loss = 2. * np.array((1-(4+5))**2 + (5-(6+7))**2).astype(NP_DTYPE) / 4.\n",
    "    loss = sess.run(make_circle_loss(z))\n",
    "    np.testing.assert_allclose(loss, expected_loss, rtol=1e-6, atol=1e-4)\n",
    "    \n",
    "test_make_circle_loss()"
   ]
  },
  {
   "cell_type": "code",
   "execution_count": 11,
   "metadata": {},
   "outputs": [],
   "source": [
    "# 2 batches\n",
    "step = tf.get_variable(\"global_step\", [], tf.int64, tf.zeros_initializer(), trainable=False)\n",
    "\n",
    "traj = tf.constant(traj, dtype=DTYPE)\n",
    "\n",
    "traj = tf.random_shuffle(traj)\n",
    "\n",
    "from utils import extract_q_p\n",
    "with tf.name_scope(\"canonical_transformation\"):\n",
    "    # traj is (num_time_samples,batch,d,n,2)\n",
    "    num_time_samples = traj.shape[0]\n",
    "    batch = traj.shape[1]    \n",
    "    traj = tf.reshape(traj, [num_time_samples*batch,settings['d'],settings['num_particles'],2]) \n",
    "    z = T.inverse(traj)\n",
    "    z = tf.reshape(z, [num_time_samples,batch,settings['d'],settings['num_particles'],2])\n",
    "    z1 = z[:, 0, :, :, :]\n",
    "    z2 = z[:, 1, :, :, :]\n",
    "    loss = make_circle_loss(z1,shift=-100) + make_circle_loss(z2,shift=-100)\n",
    "\n",
    "#    loss = make_circle_loss(z)\n",
    "    \n",
    "    tf.summary.scalar('loss', loss)\n",
    "    \n",
    "train_op = make_train_op(settings, loss, step)"
   ]
  },
  {
   "cell_type": "code",
   "execution_count": 18,
   "metadata": {},
   "outputs": [],
   "source": [
    "# 1 batch\n",
    "step = tf.get_variable(\"global_step\", [], tf.int64, tf.zeros_initializer(), trainable=False)\n",
    "\n",
    "traj = tf.constant(traj, dtype=DTYPE)\n",
    "\n",
    "traj = tf.random_shuffle(traj)\n",
    "\n",
    "from utils import extract_q_p\n",
    "with tf.name_scope(\"canonical_transformation\"):\n",
    "    # traj is (num_time_samples,batch,d,n,2)\n",
    "    num_time_samples = traj.shape[0]\n",
    "    batch = traj.shape[1]    \n",
    "    traj = tf.reshape(traj, [num_time_samples*batch,settings['d'],settings['num_particles'],2]) \n",
    "    z = T.inverse(traj)\n",
    "    \n",
    "    loss = make_circle_loss(z,shift=-settings['minibatch_size']//2)\n",
    "    \n",
    "    tf.summary.scalar('loss', loss)\n",
    "    \n",
    "train_op = make_train_op(settings, loss, step)"
   ]
  },
  {
   "cell_type": "markdown",
   "metadata": {},
   "source": [
    "## Train"
   ]
  },
  {
   "cell_type": "code",
   "execution_count": 19,
   "metadata": {},
   "outputs": [],
   "source": [
    "sess.run(tf.global_variables_initializer())"
   ]
  },
  {
   "cell_type": "code",
   "execution_count": 20,
   "metadata": {},
   "outputs": [],
   "source": [
    "losses = []\n",
    "# Coordinates to monitor\n",
    "dd = 0; nn = 0\n",
    "loss_np = 1 # Init\n",
    "loss_converged = 5e-7"
   ]
  },
  {
   "cell_type": "code",
   "execution_count": 22,
   "metadata": {},
   "outputs": [
    {
     "name": "stdout",
     "output_type": "stream",
     "text": [
      "Loss at 25000 is 0.07871344685554504\n"
     ]
    },
    {
     "data": {
      "image/png": "[encoded data removed]",
      "text/plain": [
       "<Figure size 864x288 with 3 Axes>"
      ]
     },
     "metadata": {
      "needs_background": "light"
     },
     "output_type": "display_data"
    },
    {
     "ename": "KeyboardInterrupt",
     "evalue": "",
     "output_type": "error",
     "traceback": [
      "\u001b[0;31m---------------------------------------------------------------------------\u001b[0m",
      "\u001b[0;31mKeyboardInterrupt\u001b[0m                         Traceback (most recent call last)",
      "\u001b[0;32m<ipython-input-22-e7c67c6fcf43>\u001b[0m in \u001b[0;36m<module>\u001b[0;34m\u001b[0m\n\u001b[1;32m      1\u001b[0m \u001b[0;32mwhile\u001b[0m \u001b[0mloss_np\u001b[0m \u001b[0;34m>\u001b[0m \u001b[0mloss_converged\u001b[0m\u001b[0;34m:\u001b[0m\u001b[0;34m\u001b[0m\u001b[0;34m\u001b[0m\u001b[0m\n\u001b[0;32m----> 2\u001b[0;31m     \u001b[0m_\u001b[0m\u001b[0;34m,\u001b[0m \u001b[0mit\u001b[0m\u001b[0;34m,\u001b[0m \u001b[0mloss_np\u001b[0m \u001b[0;34m=\u001b[0m \u001b[0msess\u001b[0m\u001b[0;34m.\u001b[0m\u001b[0mrun\u001b[0m\u001b[0;34m(\u001b[0m\u001b[0;34m[\u001b[0m\u001b[0mtrain_op\u001b[0m\u001b[0;34m,\u001b[0m \u001b[0mstep\u001b[0m\u001b[0;34m,\u001b[0m \u001b[0mloss\u001b[0m\u001b[0;34m]\u001b[0m\u001b[0;34m)\u001b[0m\u001b[0;34m\u001b[0m\u001b[0;34m\u001b[0m\u001b[0m\n\u001b[0m\u001b[1;32m      3\u001b[0m \u001b[0;31m#     if it % 20 == 0:\u001b[0m\u001b[0;34m\u001b[0m\u001b[0;34m\u001b[0m\u001b[0;34m\u001b[0m\u001b[0m\n\u001b[1;32m      4\u001b[0m \u001b[0;31m#         display.clear_output(wait=True)\u001b[0m\u001b[0;34m\u001b[0m\u001b[0;34m\u001b[0m\u001b[0;34m\u001b[0m\u001b[0m\n\u001b[1;32m      5\u001b[0m \u001b[0;31m#         print(\"Loss at {} is {}\".format(it, loss_np))\u001b[0m\u001b[0;34m\u001b[0m\u001b[0;34m\u001b[0m\u001b[0;34m\u001b[0m\u001b[0m\n",
      "\u001b[0;32m~/tensorflow_env/lib/python3.7/site-packages/tensorflow/python/client/session.py\u001b[0m in \u001b[0;36mrun\u001b[0;34m(self, fetches, feed_dict, options, run_metadata)\u001b[0m\n\u001b[1;32m    927\u001b[0m     \u001b[0;32mtry\u001b[0m\u001b[0;34m:\u001b[0m\u001b[0;34m\u001b[0m\u001b[0;34m\u001b[0m\u001b[0m\n\u001b[1;32m    928\u001b[0m       result = self._run(None, fetches, feed_dict, options_ptr,\n\u001b[0;32m--> 929\u001b[0;31m                          run_metadata_ptr)\n\u001b[0m\u001b[1;32m    930\u001b[0m       \u001b[0;32mif\u001b[0m \u001b[0mrun_metadata\u001b[0m\u001b[0;34m:\u001b[0m\u001b[0;34m\u001b[0m\u001b[0;34m\u001b[0m\u001b[0m\n\u001b[1;32m    931\u001b[0m         \u001b[0mproto_data\u001b[0m \u001b[0;34m=\u001b[0m \u001b[0mtf_session\u001b[0m\u001b[0;34m.\u001b[0m\u001b[0mTF_GetBuffer\u001b[0m\u001b[0;34m(\u001b[0m\u001b[0mrun_metadata_ptr\u001b[0m\u001b[0;34m)\u001b[0m\u001b[0;34m\u001b[0m\u001b[0;34m\u001b[0m\u001b[0m\n",
      "\u001b[0;32m~/tensorflow_env/lib/python3.7/site-packages/tensorflow/python/client/session.py\u001b[0m in \u001b[0;36m_run\u001b[0;34m(self, handle, fetches, feed_dict, options, run_metadata)\u001b[0m\n\u001b[1;32m   1150\u001b[0m     \u001b[0;32mif\u001b[0m \u001b[0mfinal_fetches\u001b[0m \u001b[0;32mor\u001b[0m \u001b[0mfinal_targets\u001b[0m \u001b[0;32mor\u001b[0m \u001b[0;34m(\u001b[0m\u001b[0mhandle\u001b[0m \u001b[0;32mand\u001b[0m \u001b[0mfeed_dict_tensor\u001b[0m\u001b[0;34m)\u001b[0m\u001b[0;34m:\u001b[0m\u001b[0;34m\u001b[0m\u001b[0;34m\u001b[0m\u001b[0m\n\u001b[1;32m   1151\u001b[0m       results = self._do_run(handle, final_targets, final_fetches,\n\u001b[0;32m-> 1152\u001b[0;31m                              feed_dict_tensor, options, run_metadata)\n\u001b[0m\u001b[1;32m   1153\u001b[0m     \u001b[0;32melse\u001b[0m\u001b[0;34m:\u001b[0m\u001b[0;34m\u001b[0m\u001b[0;34m\u001b[0m\u001b[0m\n\u001b[1;32m   1154\u001b[0m       \u001b[0mresults\u001b[0m \u001b[0;34m=\u001b[0m \u001b[0;34m[\u001b[0m\u001b[0;34m]\u001b[0m\u001b[0;34m\u001b[0m\u001b[0;34m\u001b[0m\u001b[0m\n",
      "\u001b[0;32m~/tensorflow_env/lib/python3.7/site-packages/tensorflow/python/client/session.py\u001b[0m in \u001b[0;36m_do_run\u001b[0;34m(self, handle, target_list, fetch_list, feed_dict, options, run_metadata)\u001b[0m\n\u001b[1;32m   1326\u001b[0m     \u001b[0;32mif\u001b[0m \u001b[0mhandle\u001b[0m \u001b[0;32mis\u001b[0m \u001b[0;32mNone\u001b[0m\u001b[0;34m:\u001b[0m\u001b[0;34m\u001b[0m\u001b[0;34m\u001b[0m\u001b[0m\n\u001b[1;32m   1327\u001b[0m       return self._do_call(_run_fn, feeds, fetches, targets, options,\n\u001b[0;32m-> 1328\u001b[0;31m                            run_metadata)\n\u001b[0m\u001b[1;32m   1329\u001b[0m     \u001b[0;32melse\u001b[0m\u001b[0;34m:\u001b[0m\u001b[0;34m\u001b[0m\u001b[0;34m\u001b[0m\u001b[0m\n\u001b[1;32m   1330\u001b[0m       \u001b[0;32mreturn\u001b[0m \u001b[0mself\u001b[0m\u001b[0;34m.\u001b[0m\u001b[0m_do_call\u001b[0m\u001b[0;34m(\u001b[0m\u001b[0m_prun_fn\u001b[0m\u001b[0;34m,\u001b[0m \u001b[0mhandle\u001b[0m\u001b[0;34m,\u001b[0m \u001b[0mfeeds\u001b[0m\u001b[0;34m,\u001b[0m \u001b[0mfetches\u001b[0m\u001b[0;34m)\u001b[0m\u001b[0;34m\u001b[0m\u001b[0;34m\u001b[0m\u001b[0m\n",
      "\u001b[0;32m~/tensorflow_env/lib/python3.7/site-packages/tensorflow/python/client/session.py\u001b[0m in \u001b[0;36m_do_call\u001b[0;34m(self, fn, *args)\u001b[0m\n\u001b[1;32m   1332\u001b[0m   \u001b[0;32mdef\u001b[0m \u001b[0m_do_call\u001b[0m\u001b[0;34m(\u001b[0m\u001b[0mself\u001b[0m\u001b[0;34m,\u001b[0m \u001b[0mfn\u001b[0m\u001b[0;34m,\u001b[0m \u001b[0;34m*\u001b[0m\u001b[0margs\u001b[0m\u001b[0;34m)\u001b[0m\u001b[0;34m:\u001b[0m\u001b[0;34m\u001b[0m\u001b[0;34m\u001b[0m\u001b[0m\n\u001b[1;32m   1333\u001b[0m     \u001b[0;32mtry\u001b[0m\u001b[0;34m:\u001b[0m\u001b[0;34m\u001b[0m\u001b[0;34m\u001b[0m\u001b[0m\n\u001b[0;32m-> 1334\u001b[0;31m       \u001b[0;32mreturn\u001b[0m \u001b[0mfn\u001b[0m\u001b[0;34m(\u001b[0m\u001b[0;34m*\u001b[0m\u001b[0margs\u001b[0m\u001b[0;34m)\u001b[0m\u001b[0;34m\u001b[0m\u001b[0;34m\u001b[0m\u001b[0m\n\u001b[0m\u001b[1;32m   1335\u001b[0m     \u001b[0;32mexcept\u001b[0m \u001b[0merrors\u001b[0m\u001b[0;34m.\u001b[0m\u001b[0mOpError\u001b[0m \u001b[0;32mas\u001b[0m \u001b[0me\u001b[0m\u001b[0;34m:\u001b[0m\u001b[0;34m\u001b[0m\u001b[0;34m\u001b[0m\u001b[0m\n\u001b[1;32m   1336\u001b[0m       \u001b[0mmessage\u001b[0m \u001b[0;34m=\u001b[0m \u001b[0mcompat\u001b[0m\u001b[0;34m.\u001b[0m\u001b[0mas_text\u001b[0m\u001b[0;34m(\u001b[0m\u001b[0me\u001b[0m\u001b[0;34m.\u001b[0m\u001b[0mmessage\u001b[0m\u001b[0;34m)\u001b[0m\u001b[0;34m\u001b[0m\u001b[0;34m\u001b[0m\u001b[0m\n",
      "\u001b[0;32m~/tensorflow_env/lib/python3.7/site-packages/tensorflow/python/client/session.py\u001b[0m in \u001b[0;36m_run_fn\u001b[0;34m(feed_dict, fetch_list, target_list, options, run_metadata)\u001b[0m\n\u001b[1;32m   1317\u001b[0m       \u001b[0mself\u001b[0m\u001b[0;34m.\u001b[0m\u001b[0m_extend_graph\u001b[0m\u001b[0;34m(\u001b[0m\u001b[0;34m)\u001b[0m\u001b[0;34m\u001b[0m\u001b[0;34m\u001b[0m\u001b[0m\n\u001b[1;32m   1318\u001b[0m       return self._call_tf_sessionrun(\n\u001b[0;32m-> 1319\u001b[0;31m           options, feed_dict, fetch_list, target_list, run_metadata)\n\u001b[0m\u001b[1;32m   1320\u001b[0m \u001b[0;34m\u001b[0m\u001b[0m\n\u001b[1;32m   1321\u001b[0m     \u001b[0;32mdef\u001b[0m \u001b[0m_prun_fn\u001b[0m\u001b[0;34m(\u001b[0m\u001b[0mhandle\u001b[0m\u001b[0;34m,\u001b[0m \u001b[0mfeed_dict\u001b[0m\u001b[0;34m,\u001b[0m \u001b[0mfetch_list\u001b[0m\u001b[0;34m)\u001b[0m\u001b[0;34m:\u001b[0m\u001b[0;34m\u001b[0m\u001b[0;34m\u001b[0m\u001b[0m\n",
      "\u001b[0;32m~/tensorflow_env/lib/python3.7/site-packages/tensorflow/python/client/session.py\u001b[0m in \u001b[0;36m_call_tf_sessionrun\u001b[0;34m(self, options, feed_dict, fetch_list, target_list, run_metadata)\u001b[0m\n\u001b[1;32m   1405\u001b[0m     return tf_session.TF_SessionRun_wrapper(\n\u001b[1;32m   1406\u001b[0m         \u001b[0mself\u001b[0m\u001b[0;34m.\u001b[0m\u001b[0m_session\u001b[0m\u001b[0;34m,\u001b[0m \u001b[0moptions\u001b[0m\u001b[0;34m,\u001b[0m \u001b[0mfeed_dict\u001b[0m\u001b[0;34m,\u001b[0m \u001b[0mfetch_list\u001b[0m\u001b[0;34m,\u001b[0m \u001b[0mtarget_list\u001b[0m\u001b[0;34m,\u001b[0m\u001b[0;34m\u001b[0m\u001b[0;34m\u001b[0m\u001b[0m\n\u001b[0;32m-> 1407\u001b[0;31m         run_metadata)\n\u001b[0m\u001b[1;32m   1408\u001b[0m \u001b[0;34m\u001b[0m\u001b[0m\n\u001b[1;32m   1409\u001b[0m   \u001b[0;32mdef\u001b[0m \u001b[0m_call_tf_sessionprun\u001b[0m\u001b[0;34m(\u001b[0m\u001b[0mself\u001b[0m\u001b[0;34m,\u001b[0m \u001b[0mhandle\u001b[0m\u001b[0;34m,\u001b[0m \u001b[0mfeed_dict\u001b[0m\u001b[0;34m,\u001b[0m \u001b[0mfetch_list\u001b[0m\u001b[0;34m)\u001b[0m\u001b[0;34m:\u001b[0m\u001b[0;34m\u001b[0m\u001b[0;34m\u001b[0m\u001b[0m\n",
      "\u001b[0;31mKeyboardInterrupt\u001b[0m: "
     ]
    }
   ],
   "source": [
    "while loss_np > loss_converged:\n",
    "    _, it, loss_np = sess.run([train_op, step, loss])\n",
    "#     if it % 20 == 0:        \n",
    "#         display.clear_output(wait=True)\n",
    "#         print(\"Loss at {} is {}\".format(it, loss_np))\n",
    "#         fig = plt.figure(figsize=(4,4))\n",
    "#         qhat_traj,phat_traj = sess.run(extract_q_p(z))\n",
    "\n",
    "# #        plt.plot(qtraj[::2,dd,nn,0], ptraj[::2,dd,nn,0],'r*')\n",
    "# #        plt.plot(qhat_traj[::2,dd,nn,0], phat_traj[::2,dd,nn,0],'b+')\n",
    "\n",
    "#         plt.plot(qtraj[:,dd,nn,0], ptraj[:,dd,nn,0],'r*')\n",
    "#         plt.plot(qhat_traj[:,0,dd,nn,0], phat_traj[:,0,dd,nn,0],'b+')\n",
    "#         plt.plot(qhat_traj[:,1,dd,nn,0], phat_traj[:,1,dd,nn,0],'g-')\n",
    "        \n",
    "#         plt.gca().set_aspect('equal', adjustable='box')\n",
    "#         #plt.savefig('../results/kepler/image_at_it_{:04d}.png'.format(it))\n",
    "#         plt.show()\n",
    "#     losses.append(loss_np)\n",
    "    \n",
    "    if it % 1000 == 0:        \n",
    "        display.clear_output(wait=True)\n",
    "        print(\"Loss at {} is {}\".format(it, loss_np))\n",
    "        fig = plt.figure(figsize=(12,4))\n",
    "        qhat_traj,phat_traj = sess.run(extract_q_p(z))\n",
    "\n",
    "        cols=['r','g','b']        \n",
    "        for n in range(settings['d']):\n",
    "            plt.subplot(1, settings['d'], n + 1)\n",
    "            plt.plot(qtraj[:,n,0,0], ptraj[:,n,0,0], cols[n]+'-')\n",
    "            plt.plot(qhat_traj[:,n,0,0], phat_traj[:,n,0,0], cols[n]+'*')\n",
    "        \n",
    "        plt.gca().set_aspect('equal', adjustable='box')\n",
    "        #plt.savefig('../results/kepler/image_at_it_{:04d}.png'.format(it))\n",
    "        plt.show()    "
   ]
  },
  {
   "cell_type": "code",
   "execution_count": 16,
   "metadata": {},
   "outputs": [
    {
     "data": {
      "text/plain": [
       "[<matplotlib.lines.Line2D at 0x13443cd68>]"
      ]
     },
     "execution_count": 16,
     "metadata": {},
     "output_type": "execute_result"
    },
    {
     "data": {
      "image/png": "[encoded data removed]",
      "text/plain": [
       "<Figure size 432x288 with 1 Axes>"
      ]
     },
     "metadata": {
      "needs_background": "light"
     },
     "output_type": "display_data"
    }
   ],
   "source": [
    "plt.plot(np.log(losses[:]))"
   ]
  },
  {
   "cell_type": "code",
   "execution_count": 19,
   "metadata": {},
   "outputs": [],
   "source": [
    "!pip install -q imageio"
   ]
  },
  {
   "cell_type": "code",
   "execution_count": 20,
   "metadata": {},
   "outputs": [],
   "source": [
    "import glob\n",
    "import imageio\n",
    "path='../results/kepler/'\n",
    "with imageio.get_writer(path+'kepler.gif', mode='I') as writer:\n",
    "    filenames = glob.glob(path+'image*.png')\n",
    "    filenames = sorted(filenames)\n",
    "    last = -1\n",
    "    for i,filename in enumerate(filenames):\n",
    "        frame = 2*(i**0.5)\n",
    "        if round(frame) > round(last):\n",
    "            last = frame\n",
    "        else:\n",
    "            continue\n",
    "        image = imageio.imread(filename)\n",
    "        writer.append_data(image)\n",
    "    image = imageio.imread(filename)\n",
    "    writer.append_data(image)\n",
    "    \n",
    "# A hack to display the GIF inside this notebook\n",
    "os.rename(path+'kepler.gif', 'kepler.gif.png')"
   ]
  },
  {
   "cell_type": "code",
   "execution_count": 15,
   "metadata": {},
   "outputs": [],
   "source": [
    "#display.Image(filename=\"kepler.gif.png\")"
   ]
  }
 ],
 "metadata": {
  "kernelspec": {
   "display_name": "Python 3",
   "language": "python",
   "name": "python3"
  },
  "language_info": {
   "codemirror_mode": {
    "name": "ipython",
    "version": 3
   },
   "file_extension": ".py",
   "mimetype": "text/x-python",
   "name": "python",
   "nbconvert_exporter": "python",
   "pygments_lexer": "ipython3",
   "version": "3.7.2"
  }
 },
 "nbformat": 4,
 "nbformat_minor": 2
}
