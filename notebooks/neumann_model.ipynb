{
 "cells": [
  {
   "cell_type": "markdown",
   "metadata": {},
   "source": [
    "# Learning Canonical Transformations from Trajectories of an Integrable Model\n",
    "\n",
    "## Neumann Hamiltonian\n",
    "\n",
    "We consider the integrable Hamiltonian\n",
    "\n",
    "$$\n",
    "H = \\frac{1}{4}\\sum_{\\alpha,\\beta} J_{\\alpha\\beta}^2 + \\frac{1}{2}\\sum_\\alpha k_\\alpha x_\\alpha^2\n",
    "$$\n",
    "\n",
    "with $J_\\alpha\\beta = x_\\alpha p_\\beta - x_\\beta p_\\alpha$ is the (generalized) angular momentum. The constants of motion are\n",
    "\n",
    "$$\n",
    "I_\\alpha = x_\\alpha^2 + \\sum_{\\beta\\neq \\alpha} \\frac{J_{\\alpha\\beta}^2}{k_\\alpha-k_\\beta}\n",
    "$$\n",
    "\n",
    "for $k_\\alpha$ all different. We have\n",
    "\n",
    "$$\n",
    "H = \\frac{1}{2}\\sum_\\alpha k_\\alpha I_\\alpha\n",
    "$$\n",
    "\n",
    "And\n",
    "\n",
    "$$\n",
    "\\sum_\\alpha x_\\alpha^2 = \\sum_\\alpha I_\\alpha,\n",
    "$$\n",
    "\n",
    "so that motion is confined to the sphere $S^{N-1}$.\n",
    "\n",
    "## Equations of Motion\n",
    "\n",
    "The equations of motion have Hamiltonian form\n",
    "\n",
    "$$\n",
    "\\begin{align}\n",
    "\\dot p_\\alpha &= \\frac{\\partial H}{\\partial x_\\alpha} = -k_\\alpha x_\\alpha-\\sum_\\beta \\left[x_\\alpha p_\\beta-x_\\beta p_\\alpha\\right]p_\\beta\\\\\n",
    "\\dot x_\\alpha &= -\\frac{\\partial H}{\\partial p_\\alpha} = \\sum_\\beta \\left[p_\\alpha x_\\beta-p_\\beta x_\\alpha\\right]x_\\beta\n",
    "\\end{align}\n",
    "$$"
   ]
  },
  {
   "cell_type": "code",
   "execution_count": 1,
   "metadata": {},
   "outputs": [
    {
     "name": "stdout",
     "output_type": "stream",
     "text": [
      "\n",
      "WARNING: The TensorFlow contrib module will not be included in TensorFlow 2.0.\n",
      "For more information, please see:\n",
      "  * https://github.com/tensorflow/community/blob/master/rfcs/20180907-contrib-sunset.md\n",
      "  * https://github.com/tensorflow/addons\n",
      "If you depend on functionality not listed there, please file an issue.\n",
      "\n"
     ]
    }
   ],
   "source": [
    "import sys\n",
    "sys.path.append(\"../\")\n",
    "import numpy as np\n",
    "import tensorflow as tf\n",
    "import tensorflow_probability as tfp\n",
    "tfd = tfp.distributions\n",
    "import matplotlib.pyplot as plt"
   ]
  },
  {
   "cell_type": "code",
   "execution_count": 3,
   "metadata": {},
   "outputs": [],
   "source": [
    "from hamiltonians import parameterized_neumann\n",
    "from models import SymplecticAdditiveCoupling, SymplecticExchange, Chain, MLP, IrrotationalMLP, LinearSymplecticTwoByTwo\n",
    "from utils import visualize_chain_bijector_1d, extract_q_p, is_symplectic, run_eagerly\n",
    "from data import BaseDistributionNormal"
   ]
  },
  {
   "cell_type": "code",
   "execution_count": 4,
   "metadata": {},
   "outputs": [],
   "source": [
    "# tf.enable_eager_execution()\n",
    "sess = tf.InteractiveSession()\n",
    "tf.set_random_seed(0)"
   ]
  },
  {
   "cell_type": "markdown",
   "metadata": {},
   "source": [
    "## Sample solution in TF"
   ]
  },
  {
   "cell_type": "code",
   "execution_count": 5,
   "metadata": {},
   "outputs": [],
   "source": [
    "N = 3"
   ]
  },
  {
   "cell_type": "code",
   "execution_count": 6,
   "metadata": {},
   "outputs": [],
   "source": [
    "ks = [0.1 , 0.2, 0.3] # Just to fix some values\n",
    "ks_tensor = tf.constant(ks, dtype=tf.float32, name=\"ks\")"
   ]
  },
  {
   "cell_type": "code",
   "execution_count": 13,
   "metadata": {},
   "outputs": [],
   "source": [
    "def neumann_system(ks):\n",
    "    def neumann_equations(phase_space_point, t):\n",
    "        xs, ps = phase_space_point[::2], phase_space_point[1::2]\n",
    "        dps = - ks * xs\n",
    "        dps += -xs * tf.reduce_sum(ps**2)\n",
    "        dps += ps * tf.reduce_sum(xs * ps)\n",
    "        dxs = ps * tf.reduce_sum(xs**2)\n",
    "        dxs += - xs * tf.reduce_sum(xs * ps)\n",
    "        # join\n",
    "        dxs = tf.expand_dims(dxs, axis=1)\n",
    "        dps = tf.expand_dims(dps, axis=1)\n",
    "        return tf.reshape(tf.concat([dxs,dps], axis=1), [-1])\n",
    "    return neumann_equations"
   ]
  },
  {
   "cell_type": "code",
   "execution_count": 36,
   "metadata": {},
   "outputs": [],
   "source": [
    "def neumann_batch(ks, size):\n",
    "    N = ks.shape.as_list()[0]\n",
    "    init_state = tf.random_uniform([2*N])\n",
    "    t = tf.linspace(0.0, 100.0, num=size)\n",
    "    tensor_state, tensor_info = tf.contrib.integrate.odeint(neumann_system(ks), init_state, t, full_output=True)\n",
    "    return tensor_state"
   ]
  },
  {
   "cell_type": "code",
   "execution_count": 37,
   "metadata": {},
   "outputs": [],
   "source": [
    "state = sess.run(neumann_batch(ks_tensor, 1000))\n",
    "x, px, y, py, z, pz = state.T"
   ]
  },
  {
   "cell_type": "code",
   "execution_count": 38,
   "metadata": {},
   "outputs": [
    {
     "data": {
      "text/plain": [
       "Text(0, 0.5, 'momentum (p)')"
      ]
     },
     "execution_count": 38,
     "metadata": {},
     "output_type": "execute_result"
    },
    {
     "data": {
      "image/png": "[encoded data removed]",
      "text/plain": [
       "<Figure size 432x288 with 1 Axes>"
      ]
     },
     "metadata": {
      "needs_background": "light"
     },
     "output_type": "display_data"
    }
   ],
   "source": [
    "# plt.axes().set_aspect('equal', 'datalim')\n",
    "plt.plot(x, px)\n",
    "#plt.xlim(-2, 2)\n",
    "#plt.ylim(-2, 2)\n",
    "#plt.gca().set_aspect('equal')\n",
    "plt.xlabel('position (q)')\n",
    "plt.ylabel('momentum (p)')"
   ]
  },
  {
   "cell_type": "markdown",
   "metadata": {},
   "source": [
    "## Check the integrals of motion"
   ]
  },
  {
   "cell_type": "code",
   "execution_count": 24,
   "metadata": {},
   "outputs": [],
   "source": [
    "def Is(phase_space_point):\n",
    "    xs, ps = phase_space_point[::2], phase_space_point[1::2]\n",
    "    Is = xs**2 \n",
    "    for α, _ in enumerate(Is):\n",
    "        for β, _ in enumerate(Is):\n",
    "            J = xs[α]*ps[β] - ps[α]*xs[β]\n",
    "            if β != α:\n",
    "                Is[α] += J**2 / (ks[α] - ks[β])\n",
    "    return Is"
   ]
  },
  {
   "cell_type": "code",
   "execution_count": 25,
   "metadata": {},
   "outputs": [],
   "source": [
    "I_traj = np.array([Is(point) for point in state])"
   ]
  },
  {
   "cell_type": "code",
   "execution_count": 26,
   "metadata": {},
   "outputs": [
    {
     "data": {
      "text/plain": [
       "[<matplotlib.lines.Line2D at 0x7fa18d455240>,\n",
       " <matplotlib.lines.Line2D at 0x7fa18d455390>,\n",
       " <matplotlib.lines.Line2D at 0x7fa18d4554e0>]"
      ]
     },
     "execution_count": 26,
     "metadata": {},
     "output_type": "execute_result"
    },
    {
     "data": {
      "image/png": "[encoded data removed]",
      "text/plain": [
       "<Figure size 432x288 with 1 Axes>"
      ]
     },
     "metadata": {},
     "output_type": "display_data"
    }
   ],
   "source": [
    "plt.plot(I_traj)"
   ]
  },
  {
   "cell_type": "markdown",
   "metadata": {},
   "source": [
    "Check the implementation of the Neumann Hamiltonian yields correct value"
   ]
  },
  {
   "cell_type": "code",
   "execution_count": 27,
   "metadata": {},
   "outputs": [],
   "source": [
    "neumann_hamiltonian = parameterized_neumann(ks_tensor)"
   ]
  },
  {
   "cell_type": "code",
   "execution_count": 28,
   "metadata": {},
   "outputs": [
    {
     "data": {
      "text/plain": [
       "0.7794132"
      ]
     },
     "execution_count": 28,
     "metadata": {},
     "output_type": "execute_result"
    }
   ],
   "source": [
    "init_state = tf.random_uniform([2*N])\n",
    "sess.run(neumann_hamiltonian(tf.reshape(init_state, (1,-1,1,2))))"
   ]
  },
  {
   "cell_type": "code",
   "execution_count": 29,
   "metadata": {},
   "outputs": [
    {
     "data": {
      "text/plain": [
       "0.17615047097206113"
      ]
     },
     "execution_count": 29,
     "metadata": {},
     "output_type": "execute_result"
    }
   ],
   "source": [
    "np.sum(ks*Is(sess.run(init_state))) / 2"
   ]
  },
  {
   "cell_type": "markdown",
   "metadata": {},
   "source": [
    "## Form Transformation by Chaining Bijectors\n",
    "\n",
    "The idea is to map _from_ trajectories _to_ the phase plane of action angle variables, imposing the condition that the distribution factorizes."
   ]
  },
  {
   "cell_type": "code",
   "execution_count": 30,
   "metadata": {},
   "outputs": [],
   "source": [
    "# Suppress the warning till they fix this:\n",
    "# lib/python3.5/site-packages/tensorflow/python/util/tf_inspect.py:75: \n",
    "# DeprecationWarning: inspect.getargspec() is deprecated, use inspect.signature() instead\n",
    "import warnings\n",
    "warnings.filterwarnings(\"ignore\")"
   ]
  },
  {
   "cell_type": "code",
   "execution_count": 31,
   "metadata": {},
   "outputs": [],
   "source": [
    "DTYPE=tf.float32\n",
    "NP_DTYPE=np.float32\n",
    "settings = {\n",
    "    'hamiltonian': parameterized_neumann(ks),  \n",
    "    'd': N,               # space dimension\n",
    "    'num_particles': 1,   # number of particles\n",
    "    'batch_size': 256,   # Mini batch size \n",
    "    'stack_size': 2}      # Size of the stack of bijectors"
   ]
  },
  {
   "cell_type": "markdown",
   "metadata": {},
   "source": [
    "Here we try modeling with:\n",
    "\n",
    "1. `IrrotationalMLP`, which directly generates an irrotational vector field, without using autodifferentiation.\n",
    "\n",
    "2. `LinearSymplecticTwoByTwo`, which learns linear symplectic transformations on each conjugate pair. \n",
    "\n",
    "There is freedom to choose different activations here. Could use traditional NN nonlinearities or simpler things like `tf.square`.\n",
    "\n",
    "I guess we don't really need squeeze, as the linear transformation includes this."
   ]
  },
  {
   "cell_type": "code",
   "execution_count": 32,
   "metadata": {},
   "outputs": [],
   "source": [
    "with tf.name_scope(\"transform\"):\n",
    "    bijectors = []\n",
    "    for _ in range(settings['stack_size']):\n",
    "        bijectors.extend([SymplecticAdditiveCoupling(shift_model=IrrotationalMLP(activation=tf.nn.softplus)),\n",
    "                          LinearSymplecticTwoByTwo()])\n",
    "    model = Chain(bijectors)"
   ]
  },
  {
   "cell_type": "markdown",
   "metadata": {},
   "source": [
    "## Form the Loss\n",
    "\n",
    "The temperatures of the GGE distributions must be learned, but we must ensure they are positive"
   ]
  },
  {
   "cell_type": "code",
   "execution_count": 33,
   "metadata": {},
   "outputs": [],
   "source": [
    "sqrt_betas = tf.get_variable(\"betas\", shape=[1,N,1,1], dtype=DTYPE)\n",
    "sqrt_betas_doubled = tf.tile(sqrt_betas, [1,1,1,2]) # shape = (1,N,1,2)"
   ]
  },
  {
   "cell_type": "markdown",
   "metadata": {},
   "source": [
    "Accounting for the normalization, the log probability is\n",
    "\n",
    "$$\n",
    "\\log p = -\\sum_j \\left[\\beta_j \\left(q_j^2+p_j^2\\right)-\\log (\\beta_j/\\pi)\\right]\n",
    "$$\n",
    "\n",
    "__I've messed this up many times in implementation, so it's probably worth checking__ Seemed OK, rewritten a litte"
   ]
  },
  {
   "cell_type": "code",
   "execution_count": 34,
   "metadata": {},
   "outputs": [],
   "source": [
    "# with tf.variable_scope(\"loss\"):\n",
    "#     base_dist = BaseDistributionNormal(settings)\n",
    "#     z_samples = base_dist.sample(settings['batch_size'])    # shape = (batch,N,1,2)\n",
    "#     loss = tf.reduce_mean( tf.square(z_samples) * sqrt_betas_doubled - tf.log(sqrt_betas_doubled) )"
   ]
  },
  {
   "cell_type": "markdown",
   "metadata": {},
   "source": [
    "An alternative loss would be to ask that the (squared) radius of each variable doesn't fluctuate, so the loss is just the sum of the variances of the squared radii. The idea is to force the radial variables to be conserved."
   ]
  },
  {
   "cell_type": "code",
   "execution_count": 35,
   "metadata": {},
   "outputs": [
    {
     "name": "stdout",
     "output_type": "stream",
     "text": [
      "WARNING:tensorflow:From /mathworks/home/rbondesa/tensorflow/tf_env/lib/python3.5/site-packages/tensorflow/python/ops/init_ops.py:1184: calling VarianceScaling.__init__ (from tensorflow.python.ops.init_ops) with distribution=normal is deprecated and will be removed in a future version.\n",
      "Instructions for updating:\n",
      "`normal` is a deprecated alias for `truncated_normal`\n"
     ]
    }
   ],
   "source": [
    "with tf.name_scope(\"loss\"):\n",
    "    base_dist = BaseDistributionNormal(settings)\n",
    "    z_samples = base_dist.sample(settings['batch_size'])\n",
    "    loss = tf.reduce_mean(tf.square(model(z_samples)))\n",
    "    \n",
    "## TODO: update following commented lines\n",
    "#     q, p = extract_q_p(model(z_samples))\n",
    "#     z_doubled = tf.concat([q, p], 2)\n",
    "#     square_radii = tf.reduce_sum(tf.square(z_doubled), axis=2)\n",
    "#     var_square_radii = tf.reduce_mean(tf.square(square_radii), axis=0) - tf.square(tf.reduce_mean(square_radii, axis=0))\n",
    "#     loss = tf.reduce_mean(var_square_radii)"
   ]
  },
  {
   "cell_type": "markdown",
   "metadata": {},
   "source": [
    "## Train"
   ]
  },
  {
   "cell_type": "code",
   "execution_count": 36,
   "metadata": {},
   "outputs": [],
   "source": [
    "step = tf.get_variable(\"global_step\", [], tf.int64, tf.zeros_initializer(), trainable=False)\n",
    "train_op = tf.train.AdamOptimizer(1e-3).minimize(loss, global_step=step)"
   ]
  },
  {
   "cell_type": "markdown",
   "metadata": {},
   "source": [
    "Add some summaries for tracking with TensorBoard"
   ]
  },
  {
   "cell_type": "code",
   "execution_count": 37,
   "metadata": {},
   "outputs": [
    {
     "data": {
      "text/plain": [
       "<tf.Tensor 'loss_function:0' shape=() dtype=string>"
      ]
     },
     "execution_count": 37,
     "metadata": {},
     "output_type": "execute_result"
    }
   ],
   "source": [
    "tf.summary.scalar(\"loss_function\", tf.reshape(loss, []))\n",
    "# tf.summary.scalar(\"mean_beta\", tf.reshape(tf.reduce_mean(sqrt_betas**2), []))"
   ]
  },
  {
   "cell_type": "markdown",
   "metadata": {},
   "source": [
    "Monitor training with `tensorboard --logdir logging/neumann`"
   ]
  },
  {
   "cell_type": "code",
   "execution_count": 38,
   "metadata": {},
   "outputs": [
    {
     "name": "stdout",
     "output_type": "stream",
     "text": [
      "INFO:tensorflow:Create CheckpointSaverHook.\n",
      "INFO:tensorflow:Graph was finalized.\n",
      "INFO:tensorflow:Running local_init_op.\n",
      "INFO:tensorflow:Done running local_init_op.\n",
      "INFO:tensorflow:Saving checkpoints for 0 into ../logging/neumann/model.ckpt.\n",
      "INFO:tensorflow:global_step/sec: 171.555\n",
      "INFO:tensorflow:global_step/sec: 287.748\n",
      "INFO:tensorflow:global_step/sec: 276.601\n",
      "INFO:tensorflow:global_step/sec: 270.492\n",
      "INFO:tensorflow:global_step/sec: 385.899\n",
      "INFO:tensorflow:global_step/sec: 469.503\n",
      "INFO:tensorflow:global_step/sec: 431.85\n",
      "INFO:tensorflow:global_step/sec: 452.945\n",
      "INFO:tensorflow:global_step/sec: 516.895\n",
      "INFO:tensorflow:global_step/sec: 517.882\n",
      "INFO:tensorflow:global_step/sec: 487.448\n",
      "INFO:tensorflow:global_step/sec: 363.11\n",
      "INFO:tensorflow:global_step/sec: 351.602\n",
      "INFO:tensorflow:global_step/sec: 336.118\n",
      "INFO:tensorflow:global_step/sec: 357.335\n",
      "INFO:tensorflow:global_step/sec: 389.852\n",
      "INFO:tensorflow:global_step/sec: 359.195\n",
      "INFO:tensorflow:global_step/sec: 333.399\n",
      "INFO:tensorflow:global_step/sec: 500.913\n",
      "INFO:tensorflow:global_step/sec: 419.158\n",
      "INFO:tensorflow:global_step/sec: 318.453\n",
      "INFO:tensorflow:global_step/sec: 308.783\n",
      "INFO:tensorflow:global_step/sec: 351.946\n",
      "INFO:tensorflow:global_step/sec: 383.372\n",
      "INFO:tensorflow:global_step/sec: 313.475\n",
      "INFO:tensorflow:global_step/sec: 370.878\n",
      "INFO:tensorflow:global_step/sec: 439.851\n",
      "INFO:tensorflow:global_step/sec: 464.555\n",
      "INFO:tensorflow:global_step/sec: 493.845\n",
      "INFO:tensorflow:global_step/sec: 520.39\n",
      "INFO:tensorflow:global_step/sec: 536.738\n",
      "INFO:tensorflow:global_step/sec: 364.399\n",
      "INFO:tensorflow:global_step/sec: 370.401\n",
      "INFO:tensorflow:global_step/sec: 349.071\n",
      "INFO:tensorflow:global_step/sec: 340.99\n",
      "INFO:tensorflow:global_step/sec: 434.485\n",
      "INFO:tensorflow:global_step/sec: 451.564\n",
      "INFO:tensorflow:global_step/sec: 483.633\n",
      "INFO:tensorflow:global_step/sec: 473.534\n",
      "INFO:tensorflow:global_step/sec: 370.673\n",
      "INFO:tensorflow:global_step/sec: 323.293\n",
      "INFO:tensorflow:global_step/sec: 447.451\n",
      "INFO:tensorflow:global_step/sec: 527.986\n",
      "INFO:tensorflow:global_step/sec: 354.733\n",
      "INFO:tensorflow:global_step/sec: 417.598\n",
      "INFO:tensorflow:global_step/sec: 298.209\n",
      "INFO:tensorflow:global_step/sec: 452.132\n",
      "INFO:tensorflow:global_step/sec: 345.073\n",
      "INFO:tensorflow:global_step/sec: 324.934\n",
      "INFO:tensorflow:global_step/sec: 338.55\n",
      "INFO:tensorflow:global_step/sec: 346.836\n",
      "INFO:tensorflow:global_step/sec: 450.265\n",
      "INFO:tensorflow:global_step/sec: 383.417\n",
      "INFO:tensorflow:global_step/sec: 376.403\n",
      "INFO:tensorflow:global_step/sec: 402.79\n",
      "INFO:tensorflow:global_step/sec: 410.036\n",
      "INFO:tensorflow:global_step/sec: 512.226\n",
      "INFO:tensorflow:global_step/sec: 523.792\n",
      "INFO:tensorflow:global_step/sec: 541.711\n",
      "INFO:tensorflow:global_step/sec: 535.685\n",
      "INFO:tensorflow:global_step/sec: 427.926\n",
      "INFO:tensorflow:global_step/sec: 330.098\n",
      "INFO:tensorflow:global_step/sec: 336.365\n",
      "INFO:tensorflow:global_step/sec: 319.421\n",
      "INFO:tensorflow:global_step/sec: 272.147\n",
      "INFO:tensorflow:global_step/sec: 298.019\n",
      "INFO:tensorflow:global_step/sec: 292.479\n",
      "INFO:tensorflow:global_step/sec: 381.098\n",
      "INFO:tensorflow:global_step/sec: 446.928\n",
      "INFO:tensorflow:global_step/sec: 281.932\n",
      "INFO:tensorflow:global_step/sec: 320.01\n",
      "INFO:tensorflow:global_step/sec: 342.12\n",
      "INFO:tensorflow:global_step/sec: 464.146\n",
      "INFO:tensorflow:global_step/sec: 269.602\n",
      "INFO:tensorflow:global_step/sec: 277.904\n",
      "INFO:tensorflow:global_step/sec: 357.071\n",
      "INFO:tensorflow:global_step/sec: 428.332\n",
      "INFO:tensorflow:global_step/sec: 471.881\n",
      "INFO:tensorflow:global_step/sec: 520.481\n",
      "INFO:tensorflow:global_step/sec: 536.848\n",
      "INFO:tensorflow:global_step/sec: 331.533\n",
      "INFO:tensorflow:global_step/sec: 327.661\n",
      "INFO:tensorflow:global_step/sec: 358.207\n",
      "INFO:tensorflow:global_step/sec: 327.787\n",
      "INFO:tensorflow:global_step/sec: 355.82\n",
      "INFO:tensorflow:global_step/sec: 469.612\n",
      "INFO:tensorflow:global_step/sec: 498.084\n",
      "INFO:tensorflow:global_step/sec: 420.309\n",
      "INFO:tensorflow:global_step/sec: 359.444\n",
      "INFO:tensorflow:global_step/sec: 310.872\n",
      "INFO:tensorflow:global_step/sec: 476.433\n",
      "INFO:tensorflow:global_step/sec: 487.849\n",
      "INFO:tensorflow:global_step/sec: 454.73\n",
      "INFO:tensorflow:global_step/sec: 367.056\n",
      "INFO:tensorflow:global_step/sec: 328.861\n",
      "INFO:tensorflow:global_step/sec: 410.011\n",
      "INFO:tensorflow:global_step/sec: 521.486\n",
      "INFO:tensorflow:global_step/sec: 491.479\n",
      "INFO:tensorflow:global_step/sec: 375.197\n",
      "INFO:tensorflow:global_step/sec: 405.527\n",
      "INFO:tensorflow:global_step/sec: 502.068\n",
      "INFO:tensorflow:global_step/sec: 504.494\n",
      "INFO:tensorflow:global_step/sec: 494.859\n",
      "INFO:tensorflow:global_step/sec: 378.07\n",
      "INFO:tensorflow:global_step/sec: 422.375\n",
      "INFO:tensorflow:global_step/sec: 469.585\n",
      "INFO:tensorflow:global_step/sec: 362.436\n",
      "INFO:tensorflow:global_step/sec: 510.043\n",
      "INFO:tensorflow:global_step/sec: 558.347\n",
      "INFO:tensorflow:global_step/sec: 545.367\n",
      "INFO:tensorflow:global_step/sec: 556.956\n",
      "INFO:tensorflow:global_step/sec: 359.44\n",
      "INFO:tensorflow:global_step/sec: 388.364\n",
      "INFO:tensorflow:global_step/sec: 376.316\n",
      "INFO:tensorflow:global_step/sec: 315.952\n",
      "INFO:tensorflow:global_step/sec: 314.55\n",
      "INFO:tensorflow:global_step/sec: 356.547\n",
      "INFO:tensorflow:global_step/sec: 456.814\n",
      "INFO:tensorflow:global_step/sec: 433.982\n",
      "INFO:tensorflow:global_step/sec: 474.924\n",
      "INFO:tensorflow:global_step/sec: 522.275\n",
      "INFO:tensorflow:global_step/sec: 388.385\n",
      "INFO:tensorflow:global_step/sec: 361.993\n",
      "INFO:tensorflow:global_step/sec: 363.737\n",
      "INFO:tensorflow:global_step/sec: 427.152\n"
     ]
    },
    {
     "ename": "KeyboardInterrupt",
     "evalue": "",
     "output_type": "error",
     "traceback": [
      "\u001b[0;31m---------------------------------------------------------------------------\u001b[0m",
      "\u001b[0;31mKeyboardInterrupt\u001b[0m                         Traceback (most recent call last)",
      "\u001b[0;32m<ipython-input-38-674c3da0b753>\u001b[0m in \u001b[0;36m<module>\u001b[0;34m()\u001b[0m\n\u001b[0;32m----> 1\u001b[0;31m \u001b[0mtf\u001b[0m\u001b[0;34m.\u001b[0m\u001b[0mcontrib\u001b[0m\u001b[0;34m.\u001b[0m\u001b[0mtraining\u001b[0m\u001b[0;34m.\u001b[0m\u001b[0mtrain\u001b[0m\u001b[0;34m(\u001b[0m\u001b[0mtrain_op\u001b[0m\u001b[0;34m,\u001b[0m \u001b[0mlogdir\u001b[0m\u001b[0;34m=\u001b[0m\u001b[0;34m\"../logging/neumann/\"\u001b[0m\u001b[0;34m,\u001b[0m \u001b[0msave_checkpoint_secs\u001b[0m\u001b[0;34m=\u001b[0m\u001b[0;36m60\u001b[0m\u001b[0;34m)\u001b[0m\u001b[0;34m\u001b[0m\u001b[0m\n\u001b[0m",
      "\u001b[0;32m/mathworks/home/rbondesa/tensorflow/tf_env/lib/python3.5/site-packages/tensorflow/contrib/training/python/training/training.py\u001b[0m in \u001b[0;36mtrain\u001b[0;34m(train_op, logdir, master, is_chief, scaffold, hooks, chief_only_hooks, save_checkpoint_secs, save_summaries_steps, config, max_wait_secs)\u001b[0m\n\u001b[1;32m    542\u001b[0m     \u001b[0mloss\u001b[0m \u001b[0;34m=\u001b[0m \u001b[0;32mNone\u001b[0m\u001b[0;34m\u001b[0m\u001b[0m\n\u001b[1;32m    543\u001b[0m     \u001b[0;32mwhile\u001b[0m \u001b[0;32mnot\u001b[0m \u001b[0msession\u001b[0m\u001b[0;34m.\u001b[0m\u001b[0mshould_stop\u001b[0m\u001b[0;34m(\u001b[0m\u001b[0;34m)\u001b[0m\u001b[0;34m:\u001b[0m\u001b[0;34m\u001b[0m\u001b[0m\n\u001b[0;32m--> 544\u001b[0;31m       \u001b[0mloss\u001b[0m \u001b[0;34m=\u001b[0m \u001b[0msession\u001b[0m\u001b[0;34m.\u001b[0m\u001b[0mrun\u001b[0m\u001b[0;34m(\u001b[0m\u001b[0mtrain_op\u001b[0m\u001b[0;34m)\u001b[0m\u001b[0;34m\u001b[0m\u001b[0m\n\u001b[0m\u001b[1;32m    545\u001b[0m   \u001b[0;32mreturn\u001b[0m \u001b[0mloss\u001b[0m\u001b[0;34m\u001b[0m\u001b[0m\n",
      "\u001b[0;32m/mathworks/home/rbondesa/tensorflow/tf_env/lib/python3.5/site-packages/tensorflow/python/training/monitored_session.py\u001b[0m in \u001b[0;36mrun\u001b[0;34m(self, fetches, feed_dict, options, run_metadata)\u001b[0m\n\u001b[1;32m    581\u001b[0m                           \u001b[0mfeed_dict\u001b[0m\u001b[0;34m=\u001b[0m\u001b[0mfeed_dict\u001b[0m\u001b[0;34m,\u001b[0m\u001b[0;34m\u001b[0m\u001b[0m\n\u001b[1;32m    582\u001b[0m                           \u001b[0moptions\u001b[0m\u001b[0;34m=\u001b[0m\u001b[0moptions\u001b[0m\u001b[0;34m,\u001b[0m\u001b[0;34m\u001b[0m\u001b[0m\n\u001b[0;32m--> 583\u001b[0;31m                           run_metadata=run_metadata)\n\u001b[0m\u001b[1;32m    584\u001b[0m \u001b[0;34m\u001b[0m\u001b[0m\n\u001b[1;32m    585\u001b[0m   \u001b[0;32mdef\u001b[0m \u001b[0mrun_step_fn\u001b[0m\u001b[0;34m(\u001b[0m\u001b[0mself\u001b[0m\u001b[0;34m,\u001b[0m \u001b[0mstep_fn\u001b[0m\u001b[0;34m)\u001b[0m\u001b[0;34m:\u001b[0m\u001b[0;34m\u001b[0m\u001b[0m\n",
      "\u001b[0;32m/mathworks/home/rbondesa/tensorflow/tf_env/lib/python3.5/site-packages/tensorflow/python/training/monitored_session.py\u001b[0m in \u001b[0;36mrun\u001b[0;34m(self, fetches, feed_dict, options, run_metadata)\u001b[0m\n\u001b[1;32m   1057\u001b[0m                               \u001b[0mfeed_dict\u001b[0m\u001b[0;34m=\u001b[0m\u001b[0mfeed_dict\u001b[0m\u001b[0;34m,\u001b[0m\u001b[0;34m\u001b[0m\u001b[0m\n\u001b[1;32m   1058\u001b[0m                               \u001b[0moptions\u001b[0m\u001b[0;34m=\u001b[0m\u001b[0moptions\u001b[0m\u001b[0;34m,\u001b[0m\u001b[0;34m\u001b[0m\u001b[0m\n\u001b[0;32m-> 1059\u001b[0;31m                               run_metadata=run_metadata)\n\u001b[0m\u001b[1;32m   1060\u001b[0m       \u001b[0;32mexcept\u001b[0m \u001b[0m_PREEMPTION_ERRORS\u001b[0m \u001b[0;32mas\u001b[0m \u001b[0me\u001b[0m\u001b[0;34m:\u001b[0m\u001b[0;34m\u001b[0m\u001b[0m\n\u001b[1;32m   1061\u001b[0m         logging.info('An error was raised. This may be due to a preemption in '\n",
      "\u001b[0;32m/mathworks/home/rbondesa/tensorflow/tf_env/lib/python3.5/site-packages/tensorflow/python/training/monitored_session.py\u001b[0m in \u001b[0;36mrun\u001b[0;34m(self, *args, **kwargs)\u001b[0m\n\u001b[1;32m   1133\u001b[0m   \u001b[0;32mdef\u001b[0m \u001b[0mrun\u001b[0m\u001b[0;34m(\u001b[0m\u001b[0mself\u001b[0m\u001b[0;34m,\u001b[0m \u001b[0;34m*\u001b[0m\u001b[0margs\u001b[0m\u001b[0;34m,\u001b[0m \u001b[0;34m**\u001b[0m\u001b[0mkwargs\u001b[0m\u001b[0;34m)\u001b[0m\u001b[0;34m:\u001b[0m\u001b[0;34m\u001b[0m\u001b[0m\n\u001b[1;32m   1134\u001b[0m     \u001b[0;32mtry\u001b[0m\u001b[0;34m:\u001b[0m\u001b[0;34m\u001b[0m\u001b[0m\n\u001b[0;32m-> 1135\u001b[0;31m       \u001b[0;32mreturn\u001b[0m \u001b[0mself\u001b[0m\u001b[0;34m.\u001b[0m\u001b[0m_sess\u001b[0m\u001b[0;34m.\u001b[0m\u001b[0mrun\u001b[0m\u001b[0;34m(\u001b[0m\u001b[0;34m*\u001b[0m\u001b[0margs\u001b[0m\u001b[0;34m,\u001b[0m \u001b[0;34m**\u001b[0m\u001b[0mkwargs\u001b[0m\u001b[0;34m)\u001b[0m\u001b[0;34m\u001b[0m\u001b[0m\n\u001b[0m\u001b[1;32m   1136\u001b[0m     \u001b[0;32mexcept\u001b[0m \u001b[0m_PREEMPTION_ERRORS\u001b[0m\u001b[0;34m:\u001b[0m\u001b[0;34m\u001b[0m\u001b[0m\n\u001b[1;32m   1137\u001b[0m       \u001b[0;32mraise\u001b[0m\u001b[0;34m\u001b[0m\u001b[0m\n",
      "\u001b[0;32m/mathworks/home/rbondesa/tensorflow/tf_env/lib/python3.5/site-packages/tensorflow/python/training/monitored_session.py\u001b[0m in \u001b[0;36mrun\u001b[0;34m(self, fetches, feed_dict, options, run_metadata)\u001b[0m\n\u001b[1;32m   1205\u001b[0m                                   \u001b[0mfeed_dict\u001b[0m\u001b[0;34m=\u001b[0m\u001b[0mfeed_dict\u001b[0m\u001b[0;34m,\u001b[0m\u001b[0;34m\u001b[0m\u001b[0m\n\u001b[1;32m   1206\u001b[0m                                   \u001b[0moptions\u001b[0m\u001b[0;34m=\u001b[0m\u001b[0moptions\u001b[0m\u001b[0;34m,\u001b[0m\u001b[0;34m\u001b[0m\u001b[0m\n\u001b[0;32m-> 1207\u001b[0;31m                                   run_metadata=run_metadata)\n\u001b[0m\u001b[1;32m   1208\u001b[0m \u001b[0;34m\u001b[0m\u001b[0m\n\u001b[1;32m   1209\u001b[0m     \u001b[0;32mfor\u001b[0m \u001b[0mhook\u001b[0m \u001b[0;32min\u001b[0m \u001b[0mself\u001b[0m\u001b[0;34m.\u001b[0m\u001b[0m_hooks\u001b[0m\u001b[0;34m:\u001b[0m\u001b[0;34m\u001b[0m\u001b[0m\n",
      "\u001b[0;32m/mathworks/home/rbondesa/tensorflow/tf_env/lib/python3.5/site-packages/tensorflow/python/training/monitored_session.py\u001b[0m in \u001b[0;36mrun\u001b[0;34m(self, *args, **kwargs)\u001b[0m\n\u001b[1;32m    985\u001b[0m \u001b[0;34m\u001b[0m\u001b[0m\n\u001b[1;32m    986\u001b[0m   \u001b[0;32mdef\u001b[0m \u001b[0mrun\u001b[0m\u001b[0;34m(\u001b[0m\u001b[0mself\u001b[0m\u001b[0;34m,\u001b[0m \u001b[0;34m*\u001b[0m\u001b[0margs\u001b[0m\u001b[0;34m,\u001b[0m \u001b[0;34m**\u001b[0m\u001b[0mkwargs\u001b[0m\u001b[0;34m)\u001b[0m\u001b[0;34m:\u001b[0m\u001b[0;34m\u001b[0m\u001b[0m\n\u001b[0;32m--> 987\u001b[0;31m     \u001b[0;32mreturn\u001b[0m \u001b[0mself\u001b[0m\u001b[0;34m.\u001b[0m\u001b[0m_sess\u001b[0m\u001b[0;34m.\u001b[0m\u001b[0mrun\u001b[0m\u001b[0;34m(\u001b[0m\u001b[0;34m*\u001b[0m\u001b[0margs\u001b[0m\u001b[0;34m,\u001b[0m \u001b[0;34m**\u001b[0m\u001b[0mkwargs\u001b[0m\u001b[0;34m)\u001b[0m\u001b[0;34m\u001b[0m\u001b[0m\n\u001b[0m\u001b[1;32m    988\u001b[0m \u001b[0;34m\u001b[0m\u001b[0m\n\u001b[1;32m    989\u001b[0m   \u001b[0;32mdef\u001b[0m \u001b[0mrun_step_fn\u001b[0m\u001b[0;34m(\u001b[0m\u001b[0mself\u001b[0m\u001b[0;34m,\u001b[0m \u001b[0mstep_fn\u001b[0m\u001b[0;34m,\u001b[0m \u001b[0mraw_session\u001b[0m\u001b[0;34m,\u001b[0m \u001b[0mrun_with_hooks\u001b[0m\u001b[0;34m)\u001b[0m\u001b[0;34m:\u001b[0m\u001b[0;34m\u001b[0m\u001b[0m\n",
      "\u001b[0;32m/mathworks/home/rbondesa/tensorflow/tf_env/lib/python3.5/site-packages/tensorflow/python/client/session.py\u001b[0m in \u001b[0;36mrun\u001b[0;34m(self, fetches, feed_dict, options, run_metadata)\u001b[0m\n\u001b[1;32m    875\u001b[0m     \u001b[0;32mtry\u001b[0m\u001b[0;34m:\u001b[0m\u001b[0;34m\u001b[0m\u001b[0m\n\u001b[1;32m    876\u001b[0m       result = self._run(None, fetches, feed_dict, options_ptr,\n\u001b[0;32m--> 877\u001b[0;31m                          run_metadata_ptr)\n\u001b[0m\u001b[1;32m    878\u001b[0m       \u001b[0;32mif\u001b[0m \u001b[0mrun_metadata\u001b[0m\u001b[0;34m:\u001b[0m\u001b[0;34m\u001b[0m\u001b[0m\n\u001b[1;32m    879\u001b[0m         \u001b[0mproto_data\u001b[0m \u001b[0;34m=\u001b[0m \u001b[0mtf_session\u001b[0m\u001b[0;34m.\u001b[0m\u001b[0mTF_GetBuffer\u001b[0m\u001b[0;34m(\u001b[0m\u001b[0mrun_metadata_ptr\u001b[0m\u001b[0;34m)\u001b[0m\u001b[0;34m\u001b[0m\u001b[0m\n",
      "\u001b[0;32m/mathworks/home/rbondesa/tensorflow/tf_env/lib/python3.5/site-packages/tensorflow/python/client/session.py\u001b[0m in \u001b[0;36m_run\u001b[0;34m(self, handle, fetches, feed_dict, options, run_metadata)\u001b[0m\n\u001b[1;32m   1098\u001b[0m     \u001b[0;32mif\u001b[0m \u001b[0mfinal_fetches\u001b[0m \u001b[0;32mor\u001b[0m \u001b[0mfinal_targets\u001b[0m \u001b[0;32mor\u001b[0m \u001b[0;34m(\u001b[0m\u001b[0mhandle\u001b[0m \u001b[0;32mand\u001b[0m \u001b[0mfeed_dict_tensor\u001b[0m\u001b[0;34m)\u001b[0m\u001b[0;34m:\u001b[0m\u001b[0;34m\u001b[0m\u001b[0m\n\u001b[1;32m   1099\u001b[0m       results = self._do_run(handle, final_targets, final_fetches,\n\u001b[0;32m-> 1100\u001b[0;31m                              feed_dict_tensor, options, run_metadata)\n\u001b[0m\u001b[1;32m   1101\u001b[0m     \u001b[0;32melse\u001b[0m\u001b[0;34m:\u001b[0m\u001b[0;34m\u001b[0m\u001b[0m\n\u001b[1;32m   1102\u001b[0m       \u001b[0mresults\u001b[0m \u001b[0;34m=\u001b[0m \u001b[0;34m[\u001b[0m\u001b[0;34m]\u001b[0m\u001b[0;34m\u001b[0m\u001b[0m\n",
      "\u001b[0;32m/mathworks/home/rbondesa/tensorflow/tf_env/lib/python3.5/site-packages/tensorflow/python/client/session.py\u001b[0m in \u001b[0;36m_do_run\u001b[0;34m(self, handle, target_list, fetch_list, feed_dict, options, run_metadata)\u001b[0m\n\u001b[1;32m   1270\u001b[0m     \u001b[0;32mif\u001b[0m \u001b[0mhandle\u001b[0m \u001b[0;32mis\u001b[0m \u001b[0;32mNone\u001b[0m\u001b[0;34m:\u001b[0m\u001b[0;34m\u001b[0m\u001b[0m\n\u001b[1;32m   1271\u001b[0m       return self._do_call(_run_fn, feeds, fetches, targets, options,\n\u001b[0;32m-> 1272\u001b[0;31m                            run_metadata)\n\u001b[0m\u001b[1;32m   1273\u001b[0m     \u001b[0;32melse\u001b[0m\u001b[0;34m:\u001b[0m\u001b[0;34m\u001b[0m\u001b[0m\n\u001b[1;32m   1274\u001b[0m       \u001b[0;32mreturn\u001b[0m \u001b[0mself\u001b[0m\u001b[0;34m.\u001b[0m\u001b[0m_do_call\u001b[0m\u001b[0;34m(\u001b[0m\u001b[0m_prun_fn\u001b[0m\u001b[0;34m,\u001b[0m \u001b[0mhandle\u001b[0m\u001b[0;34m,\u001b[0m \u001b[0mfeeds\u001b[0m\u001b[0;34m,\u001b[0m \u001b[0mfetches\u001b[0m\u001b[0;34m)\u001b[0m\u001b[0;34m\u001b[0m\u001b[0m\n",
      "\u001b[0;32m/mathworks/home/rbondesa/tensorflow/tf_env/lib/python3.5/site-packages/tensorflow/python/client/session.py\u001b[0m in \u001b[0;36m_do_call\u001b[0;34m(self, fn, *args)\u001b[0m\n\u001b[1;32m   1276\u001b[0m   \u001b[0;32mdef\u001b[0m \u001b[0m_do_call\u001b[0m\u001b[0;34m(\u001b[0m\u001b[0mself\u001b[0m\u001b[0;34m,\u001b[0m \u001b[0mfn\u001b[0m\u001b[0;34m,\u001b[0m \u001b[0;34m*\u001b[0m\u001b[0margs\u001b[0m\u001b[0;34m)\u001b[0m\u001b[0;34m:\u001b[0m\u001b[0;34m\u001b[0m\u001b[0m\n\u001b[1;32m   1277\u001b[0m     \u001b[0;32mtry\u001b[0m\u001b[0;34m:\u001b[0m\u001b[0;34m\u001b[0m\u001b[0m\n\u001b[0;32m-> 1278\u001b[0;31m       \u001b[0;32mreturn\u001b[0m \u001b[0mfn\u001b[0m\u001b[0;34m(\u001b[0m\u001b[0;34m*\u001b[0m\u001b[0margs\u001b[0m\u001b[0;34m)\u001b[0m\u001b[0;34m\u001b[0m\u001b[0m\n\u001b[0m\u001b[1;32m   1279\u001b[0m     \u001b[0;32mexcept\u001b[0m \u001b[0merrors\u001b[0m\u001b[0;34m.\u001b[0m\u001b[0mOpError\u001b[0m \u001b[0;32mas\u001b[0m \u001b[0me\u001b[0m\u001b[0;34m:\u001b[0m\u001b[0;34m\u001b[0m\u001b[0m\n\u001b[1;32m   1280\u001b[0m       \u001b[0mmessage\u001b[0m \u001b[0;34m=\u001b[0m \u001b[0mcompat\u001b[0m\u001b[0;34m.\u001b[0m\u001b[0mas_text\u001b[0m\u001b[0;34m(\u001b[0m\u001b[0me\u001b[0m\u001b[0;34m.\u001b[0m\u001b[0mmessage\u001b[0m\u001b[0;34m)\u001b[0m\u001b[0;34m\u001b[0m\u001b[0m\n",
      "\u001b[0;32m/mathworks/home/rbondesa/tensorflow/tf_env/lib/python3.5/site-packages/tensorflow/python/client/session.py\u001b[0m in \u001b[0;36m_run_fn\u001b[0;34m(feed_dict, fetch_list, target_list, options, run_metadata)\u001b[0m\n\u001b[1;32m   1261\u001b[0m       \u001b[0mself\u001b[0m\u001b[0;34m.\u001b[0m\u001b[0m_extend_graph\u001b[0m\u001b[0;34m(\u001b[0m\u001b[0;34m)\u001b[0m\u001b[0;34m\u001b[0m\u001b[0m\n\u001b[1;32m   1262\u001b[0m       return self._call_tf_sessionrun(\n\u001b[0;32m-> 1263\u001b[0;31m           options, feed_dict, fetch_list, target_list, run_metadata)\n\u001b[0m\u001b[1;32m   1264\u001b[0m \u001b[0;34m\u001b[0m\u001b[0m\n\u001b[1;32m   1265\u001b[0m     \u001b[0;32mdef\u001b[0m \u001b[0m_prun_fn\u001b[0m\u001b[0;34m(\u001b[0m\u001b[0mhandle\u001b[0m\u001b[0;34m,\u001b[0m \u001b[0mfeed_dict\u001b[0m\u001b[0;34m,\u001b[0m \u001b[0mfetch_list\u001b[0m\u001b[0;34m)\u001b[0m\u001b[0;34m:\u001b[0m\u001b[0;34m\u001b[0m\u001b[0m\n",
      "\u001b[0;32m/mathworks/home/rbondesa/tensorflow/tf_env/lib/python3.5/site-packages/tensorflow/python/client/session.py\u001b[0m in \u001b[0;36m_call_tf_sessionrun\u001b[0;34m(self, options, feed_dict, fetch_list, target_list, run_metadata)\u001b[0m\n\u001b[1;32m   1348\u001b[0m     return tf_session.TF_SessionRun_wrapper(\n\u001b[1;32m   1349\u001b[0m         \u001b[0mself\u001b[0m\u001b[0;34m.\u001b[0m\u001b[0m_session\u001b[0m\u001b[0;34m,\u001b[0m \u001b[0moptions\u001b[0m\u001b[0;34m,\u001b[0m \u001b[0mfeed_dict\u001b[0m\u001b[0;34m,\u001b[0m \u001b[0mfetch_list\u001b[0m\u001b[0;34m,\u001b[0m \u001b[0mtarget_list\u001b[0m\u001b[0;34m,\u001b[0m\u001b[0;34m\u001b[0m\u001b[0m\n\u001b[0;32m-> 1350\u001b[0;31m         run_metadata)\n\u001b[0m\u001b[1;32m   1351\u001b[0m \u001b[0;34m\u001b[0m\u001b[0m\n\u001b[1;32m   1352\u001b[0m   \u001b[0;32mdef\u001b[0m \u001b[0m_call_tf_sessionprun\u001b[0m\u001b[0;34m(\u001b[0m\u001b[0mself\u001b[0m\u001b[0;34m,\u001b[0m \u001b[0mhandle\u001b[0m\u001b[0;34m,\u001b[0m \u001b[0mfeed_dict\u001b[0m\u001b[0;34m,\u001b[0m \u001b[0mfetch_list\u001b[0m\u001b[0;34m)\u001b[0m\u001b[0;34m:\u001b[0m\u001b[0;34m\u001b[0m\u001b[0m\n",
      "\u001b[0;31mKeyboardInterrupt\u001b[0m: "
     ]
    }
   ],
   "source": [
    "tf.contrib.training.train(train_op, logdir=\"../logging/neumann/\", save_checkpoint_secs=60)"
   ]
  },
  {
   "cell_type": "markdown",
   "metadata": {},
   "source": [
    "## Look at the Learned Representation"
   ]
  },
  {
   "cell_type": "markdown",
   "metadata": {},
   "source": [
    "Load the saved model. If not training, first evaluate all cells _except_ for those in the __Train__ section. "
   ]
  },
  {
   "cell_type": "code",
   "execution_count": 39,
   "metadata": {},
   "outputs": [],
   "source": [
    "traindir = \"../logging/neumann/\"\n",
    "saver = tf.train.Saver()"
   ]
  },
  {
   "cell_type": "code",
   "execution_count": 40,
   "metadata": {},
   "outputs": [
    {
     "name": "stdout",
     "output_type": "stream",
     "text": [
      "INFO:tensorflow:Restoring parameters from ../logging/neumann/model.ckpt-0\n"
     ]
    }
   ],
   "source": [
    "ckpt_state = tf.train.get_checkpoint_state(traindir)\n",
    "saver.restore(sess, ckpt_state.model_checkpoint_path)"
   ]
  },
  {
   "cell_type": "markdown",
   "metadata": {},
   "source": [
    "How do the trajectories look in the phase planes of the new variables? "
   ]
  },
  {
   "cell_type": "code",
   "execution_count": 41,
   "metadata": {},
   "outputs": [],
   "source": [
    "traj = sess.run(z_samples)\n",
    "q1, p1, q2, p2, q3, p3 = np.reshape( traj, (-1,6) ).T"
   ]
  },
  {
   "cell_type": "code",
   "execution_count": 42,
   "metadata": {},
   "outputs": [
    {
     "data": {
      "image/png": "[encoded data removed]",
      "text/plain": [
       "<Figure size 1440x1440 with 3 Axes>"
      ]
     },
     "metadata": {},
     "output_type": "display_data"
    }
   ],
   "source": [
    "transformed_traj = sess.run(model(tf.constant(traj)))\n",
    "x1, y1, x2, y2, x3, y3 = np.reshape( transformed_traj, (-1,6) ).T\n",
    "\n",
    "plt.figure(figsize=(20,20))\n",
    "\n",
    "plt.subplot(1, 3, 1)\n",
    "plt.plot(x1, y1)\n",
    "plt.plot(q1, p1)\n",
    "# plt.axis('equal')\n",
    "plt.xlim(-10, 10)\n",
    "plt.ylim(-10, 10)\n",
    "plt.gca().set_aspect('equal', adjustable='box')\n",
    "\n",
    "plt.subplot(1, 3, 2)\n",
    "plt.plot(x2, y2)\n",
    "plt.plot(q2, p2)\n",
    "plt.xlim(-10, 10)\n",
    "plt.ylim(-10, 10)\n",
    "plt.gca().set_aspect('equal', adjustable='box')\n",
    "\n",
    "plt.subplot(1, 3, 3)\n",
    "plt.plot(x3, y3)\n",
    "plt.plot(q3, p3)\n",
    "plt.xlim(-10, 10)\n",
    "plt.ylim(-10, 10)\n",
    "plt.gca().set_aspect('equal', adjustable='box')\n"
   ]
  },
  {
   "cell_type": "code",
   "execution_count": null,
   "metadata": {},
   "outputs": [],
   "source": []
  }
 ],
 "metadata": {
  "kernelspec": {
   "display_name": "Python 3",
   "language": "python",
   "name": "python3"
  },
  "language_info": {
   "codemirror_mode": {
    "name": "ipython",
    "version": 3
   },
   "file_extension": ".py",
   "mimetype": "text/x-python",
   "name": "python",
   "nbconvert_exporter": "python",
   "pygments_lexer": "ipython3",
   "version": "3.7.2"
  }
 },
 "nbformat": 4,
 "nbformat_minor": 2
}
